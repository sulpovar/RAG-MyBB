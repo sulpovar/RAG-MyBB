{
 "cells": [
  {
   "cell_type": "markdown",
   "id": "22c06c4f-dd74-4494-8b4f-974b99b8f2e6",
   "metadata": {},
   "source": [
    "This project is an attempt to load data from MyBB based online special interest forum and run questions against the result in ChatGPT\n",
    "\n",
    "The project is based on \"Building a RAG application from scratch\" video tutorial from YouTube user Underfitted - https://www.youtube.com/watch?v=BrsocJb-fAo"
   ]
  },
  {
   "cell_type": "markdown",
   "id": "644b04d2-503c-403c-99d9-22250920eb25",
   "metadata": {},
   "source": [
    "Step 1: Install Dependencies"
   ]
  },
  {
   "cell_type": "code",
   "execution_count": null,
   "id": "421c15c9-0faf-43dc-bef0-0b453988a547",
   "metadata": {},
   "outputs": [],
   "source": [
    "pip install langchain langchain_openai langchain_core"
   ]
  },
  {
   "cell_type": "code",
   "execution_count": null,
   "id": "7c793944-3056-4a5d-91ac-618a8f9f15dd",
   "metadata": {},
   "outputs": [],
   "source": [
    "pip install bs4"
   ]
  },
  {
   "cell_type": "code",
   "execution_count": null,
   "id": "1607c1a1-a854-4bd2-aeb3-06fa3459bfb9",
   "metadata": {},
   "outputs": [],
   "source": [
    "pip  install -U docarray"
   ]
  },
  {
   "cell_type": "code",
   "execution_count": null,
   "id": "26ceca93-60f3-43ff-a579-4ab7fc08bc56",
   "metadata": {},
   "outputs": [],
   "source": [
    "pip  install pydantic==1.10.9"
   ]
  },
  {
   "cell_type": "markdown",
   "id": "5dafedbf-d533-44e2-a4b1-6aa5df71b366",
   "metadata": {},
   "source": [
    "Step 2: Import libraries"
   ]
  },
  {
   "cell_type": "code",
   "execution_count": null,
   "id": "fd452b81-c06f-4d4f-bcab-88c1035167fe",
   "metadata": {},
   "outputs": [],
   "source": [
    "from langchain_openai.embeddings import OpenAIEmbeddings\n",
    "from langchain_openai.embeddings import OpenAIEmbeddings\n",
    "from langchain_openai.chat_models import ChatOpenAI\n",
    "from langchain_core.output_parsers import StrOutputParser\n",
    "from langchain_core.runnables import RunnableParallel, RunnablePassthrough\n",
    "from langchain_core.runnables import RunnableParallel, RunnablePassthrough\n",
    "from langchain_community.vectorstores import DocArrayInMemorySearch\n",
    "from langchain.prompts import ChatPromptTemplate\n",
    "from langchain_community.vectorstores import DocArrayInMemorySearch"
   ]
  },
  {
   "cell_type": "code",
   "execution_count": null,
   "id": "7072bfec-fae6-42c8-8aac-a1f5d506041c",
   "metadata": {},
   "outputs": [],
   "source": [
    "from bs4 import BeautifulSoup, SoupStrainer\n",
    "from datetime import datetime\n",
    "import requests"
   ]
  },
  {
   "cell_type": "markdown",
   "id": "8726d1ae-6a21-4c60-a0be-5e6d80220a9d",
   "metadata": {},
   "source": [
    "Step 3: Define Constants\n",
    "\n",
    "MAX_FORUMS, MAX_THREADS_PER_FORUM - limit breadth of data load for testing purposes. Value of -1 specifies full collection.\n",
    "OPENAI_API_KEY - key to ChatGPT API - to be procured and supplied to user\n",
    "BASE_URL - the base url of the forum in question. The actual value is not supplied due to fair-use reason and to be supplied by a user. In the testing a special interest automotive open online forum was used."
   ]
  },
  {
   "cell_type": "code",
   "execution_count": null,
   "id": "149cb8c1-901a-4552-8fa3-ba29bfafc8aa",
   "metadata": {},
   "outputs": [],
   "source": [
    "MAX_FORUMS = -1\n",
    "MAX_THREADS_PER_FORUM = -1"
   ]
  },
  {
   "cell_type": "code",
   "execution_count": null,
   "id": "9af78e73-f270-4c0b-bd91-ca7174c64b18",
   "metadata": {},
   "outputs": [],
   "source": [
    "BASE_URL = \"\"\n",
    "OPENAI_API_KEY=\"\""
   ]
  },
  {
   "cell_type": "code",
   "execution_count": null,
   "id": "6ed33101-4881-435e-b7b2-ad32ac6cce49",
   "metadata": {},
   "outputs": [],
   "source": [
    "template = '''\n",
    "Answer the fllowing question based on provided context. If you can't answer the question, reply \"I don't know.\"\n",
    "\n",
    "Context: {context}\n",
    "\n",
    "Question: {question}\n",
    "\n",
    "'''"
   ]
  },
  {
   "cell_type": "markdown",
   "id": "fb26925c-f799-435e-8005-2a98a40ed78f",
   "metadata": {},
   "source": [
    "Step 4: Initialize a model"
   ]
  },
  {
   "cell_type": "code",
   "execution_count": null,
   "id": "33925bc6-22d7-4224-a633-f7370944ef4c",
   "metadata": {},
   "outputs": [],
   "source": [
    "model = ChatOpenAI(openai_api_key=OPENAI_API_KEY, model=\"gpt-3.5-turbo\")\n",
    "parser = StrOutputParser()\n",
    "prompt = ChatPromptTemplate.from_template(template)"
   ]
  },
  {
   "cell_type": "markdown",
   "id": "9dc439cf-a317-426a-b4c3-db4d0668705c",
   "metadata": {},
   "source": [
    "Step 5: Define scraping code and scrape the pages"
   ]
  },
  {
   "cell_type": "code",
   "execution_count": null,
   "id": "200bf959-9db9-4649-8505-7429505ebd9e",
   "metadata": {},
   "outputs": [],
   "source": [
    "def scrape_page(url):\n",
    "    page_to_scrape = requests.get(url)\n",
    "    posts = []\n",
    "    soup = BeautifulSoup(page_to_scrape.text, \"html.parser\")\n",
    "    posts1 = soup.findAll(\"div\", attrs={\"class\":\"bbCodeBlock-content\"})\n",
    "    posts2 = soup.findAll(\"div\", attrs={\"class\":\"bbWrapper\"})\n",
    "    for txt in posts1:\n",
    "        posts.append(txt.get_text())\n",
    "    for txt in posts2:\n",
    "        posts.append(txt.get_text())\n",
    "    return posts\n",
    "\n",
    "def find_links(base_url, page_url, prefix):\n",
    "    page_to_scrape = requests.get(page_url)\n",
    "    soup = BeautifulSoup(page_to_scrape.text, \"html.parser\")\n",
    "    links_list = []\n",
    "    for link in BeautifulSoup(page_to_scrape.text, \"html.parser\", parse_only=SoupStrainer('a')):\n",
    "        if link.has_attr('href') and prefix in link['href'] and link['href'] != prefix:\n",
    "            links_list.append(base_url + link['href'])\n",
    "            #print(link['href'])\n",
    "    links_list = list(set(links_list))\n",
    "    return links_list"
   ]
  },
  {
   "cell_type": "markdown",
   "id": "649b6d65-a015-4f45-b9b4-75f5b5790005",
   "metadata": {},
   "source": [
    "Run scraping process\n",
    "This cells takes 1hr+ to run so do not rerun unless needed"
   ]
  },
  {
   "cell_type": "code",
   "execution_count": null,
   "id": "a74a4677-79e5-47ec-a586-bd1e219a6f7a",
   "metadata": {},
   "outputs": [],
   "source": [
    "start_dt = datetime.now()\n",
    "print(\"Start time: \", start_dt)\n",
    "forums_list = find_links(BASE_URL, BASE_URL + '/forums/','/forums/')\n",
    "threads_list = []\n",
    "forums_count = 0\n",
    "for forum in forums_list:\n",
    "    if MAX_FORUMS > 0 and forums_count > MAX_FORUMS:\n",
    "        break\n",
    "    forums_count += 1\n",
    "    print(\"Loading links from \" + forum)\n",
    "    result = find_links(BASE_URL, forum,'/threads/')\n",
    "    threads_list += result\n",
    "posts = []\n",
    "threads_count = 0\n",
    "for thread in threads_list:\n",
    "    if MAX_THREADS_PER_FORUM > 0 and threads_count > MAX_THREADS_PER_FORUM:\n",
    "        break\n",
    "    threads_count += 1\n",
    "    try:\n",
    "        posts += scrape_page(thread);\n",
    "        print(\"Scraping \" + thread);\n",
    "    except:\n",
    "        print(\"Scraping of \" + thread + \" failed\")\n",
    "end_dt = datetime.now()\n",
    "print(len(posts), \" posts in \", (datetime.timestamp(end_dt)-datetime.timestamp(start_dt)), \"ms, end time:\", end_dt)"
   ]
  },
  {
   "cell_type": "markdown",
   "id": "ea63b5a8-597f-47fd-a338-e79f45d6fb19",
   "metadata": {},
   "source": [
    "Step 6: Convert scraped data to embeddings and save in a doc array"
   ]
  },
  {
   "cell_type": "code",
   "execution_count": null,
   "id": "c1f33261-1f86-44e3-8c77-834657562518",
   "metadata": {},
   "outputs": [],
   "source": [
    "embeddings = OpenAIEmbeddings(openai_api_key=OPENAI_API_KEY)\n",
    "vectorstore1 = DocArrayInMemorySearch.from_texts(posts,embedding=embeddings)\n",
    "print(\"embdeddings stored\")"
   ]
  },
  {
   "cell_type": "markdown",
   "id": "317b8191-418c-4d4d-a2a2-f840b7c0b5b4",
   "metadata": {},
   "source": [
    "Step 7: Set up retriever"
   ]
  },
  {
   "cell_type": "code",
   "execution_count": null,
   "id": "0773920d-b3df-4086-b557-54e0704fe3fa",
   "metadata": {},
   "outputs": [],
   "source": [
    "retriever1 = vectorstore1.as_retriever()\n",
    "setup = RunnableParallel(context=retriever1, question=RunnablePassthrough())\n",
    "chain = setup | prompt | model | parser"
   ]
  },
  {
   "cell_type": "markdown",
   "id": "b1babd8b-efd4-43b0-8ddf-ed179d52f695",
   "metadata": {},
   "source": [
    "Step 8: Define a question and run the chain"
   ]
  },
  {
   "cell_type": "code",
   "execution_count": null,
   "id": "4ae1fc20-21b1-4d0e-8c58-10fd59e6ef03",
   "metadata": {},
   "outputs": [],
   "source": [
    "question = \"How hard is it replace a head gasket"
   ]
  },
  {
   "cell_type": "code",
   "execution_count": null,
   "id": "c88322d3-7dfa-44ec-90d4-b0dd5b99bb8a",
   "metadata": {},
   "outputs": [],
   "source": [
    "chain.invoke(question)"
   ]
  }
 ],
 "metadata": {
  "kernelspec": {
   "display_name": "Python 3 (ipykernel)",
   "language": "python",
   "name": "python3"
  },
  "language_info": {
   "codemirror_mode": {
    "name": "ipython",
    "version": 3
   },
   "file_extension": ".py",
   "mimetype": "text/x-python",
   "name": "python",
   "nbconvert_exporter": "python",
   "pygments_lexer": "ipython3",
   "version": "3.11.7"
  }
 },
 "nbformat": 4,
 "nbformat_minor": 5
}
